{
 "cells": [
  {
   "cell_type": "markdown",
   "metadata": {},
   "source": [
    "# Neural networks "
   ]
  },
  {
   "cell_type": "markdown",
   "metadata": {},
   "source": []
  },
  {
   "cell_type": "code",
   "execution_count": 1,
   "metadata": {},
   "outputs": [
    {
     "name": "stderr",
     "output_type": "stream",
     "text": [
      "2024-11-20 17:12:38.679727: E external/local_xla/xla/stream_executor/cuda/cuda_dnn.cc:9261] Unable to register cuDNN factory: Attempting to register factory for plugin cuDNN when one has already been registered\n",
      "2024-11-20 17:12:38.679784: E external/local_xla/xla/stream_executor/cuda/cuda_fft.cc:607] Unable to register cuFFT factory: Attempting to register factory for plugin cuFFT when one has already been registered\n",
      "2024-11-20 17:12:38.680996: E external/local_xla/xla/stream_executor/cuda/cuda_blas.cc:1515] Unable to register cuBLAS factory: Attempting to register factory for plugin cuBLAS when one has already been registered\n",
      "2024-11-20 17:12:38.688412: I tensorflow/core/platform/cpu_feature_guard.cc:182] This TensorFlow binary is optimized to use available CPU instructions in performance-critical operations.\n",
      "To enable the following instructions: AVX2 FMA, in other operations, rebuild TensorFlow with the appropriate compiler flags.\n",
      "2024-11-20 17:12:40.036291: W tensorflow/compiler/tf2tensorrt/utils/py_utils.cc:38] TF-TRT Warning: Could not find TensorRT\n"
     ]
    },
    {
     "name": "stdout",
     "output_type": "stream",
     "text": [
      "2.15.0\n"
     ]
    }
   ],
   "source": [
    "# let's import tensorflow \n",
    "import tensorflow as tf \n",
    "import numpy as  np \n",
    "import matplotlib.pyplot as plt \n",
    "from tensorflow.keras import datasets\n",
    "\n",
    "print(tf.__version__)"
   ]
  },
  {
   "cell_type": "markdown",
   "metadata": {},
   "source": [
    "## 4.1 Digits recognition"
   ]
  },
  {
   "cell_type": "code",
   "execution_count": 2,
   "metadata": {},
   "outputs": [],
   "source": [
    "#loading the data from tf keras \n",
    "\n",
    "mnist = tf.keras.datasets.mnist \n",
    "\n",
    "(x_train, y_train), (x_test, y_test) = mnist.load_data()"
   ]
  },
  {
   "cell_type": "code",
   "execution_count": null,
   "metadata": {},
   "outputs": [
    {
     "data": {
      "text/plain": [
       "((60000, 28, 28), (60000,))"
      ]
     },
     "execution_count": 3,
     "metadata": {},
     "output_type": "execute_result"
    },
    {
     "ename": "",
     "evalue": "",
     "output_type": "error",
     "traceback": [
      "\u001b[1;31mnotebook controller is DISPOSED. \n",
      "\u001b[1;31mView Jupyter <a href='command:jupyter.viewOutput'>log</a> for further details."
     ]
    },
    {
     "ename": "",
     "evalue": "",
     "output_type": "error",
     "traceback": [
      "\u001b[1;31mnotebook controller is DISPOSED. \n",
      "\u001b[1;31mView Jupyter <a href='command:jupyter.viewOutput'>log</a> for further details."
     ]
    }
   ],
   "source": [
    "x_train.shape  , y_train.shape"
   ]
  },
  {
   "cell_type": "code",
   "execution_count": 3,
   "metadata": {},
   "outputs": [
    {
     "name": "stdout",
     "output_type": "stream",
     "text": [
      "4\n"
     ]
    },
    {
     "data": {
      "image/png": "[encoded data removed]",
      "text/plain": [
       "<Figure size 640x480 with 1 Axes>"
      ]
     },
     "metadata": {},
     "output_type": "display_data"
    }
   ],
   "source": [
    "# to observe the data (images of handwritting)\n",
    "plt.imshow(x_train[2], cmap= plt.cm.binary)\n",
    "print(y_train[2]) "
   ]
  },
  {
   "cell_type": "code",
   "execution_count": 4,
   "metadata": {},
   "outputs": [
    {
     "name": "stdout",
     "output_type": "stream",
     "text": [
      "[[  0   0   0   0   0   0   0   0   0   0   0   0   0   0   0   0   0   0   0   0   0   0   0   0   0   0   0   0]\n",
      " [  0   0   0   0   0   0   0   0   0   0   0   0   0   0   0   0   0   0   0   0   0   0   0   0   0   0   0   0]\n",
      " [  0   0   0   0   0   0   0   0   0   0   0   0   0   0   0   0   0   0   0   0   0   0   0   0   0   0   0   0]\n",
      " [  0   0   0   0   0   0   0   0   0   0   0   0   0   0   0   0   0   0   0   0   0   0   0   0   0   0   0   0]\n",
      " [  0   0   0   0   0   0   0   0   0   0   0   0   0   0   0   0   0   0   0   0   0   0   0   0   0   0   0   0]\n",
      " [  0   0   0   0   0   0   0   0   0   0   0   0   0   0   0   0   0   0   0   0  67 232  39   0   0   0   0   0]\n",
      " [  0   0   0   0  62  81   0   0   0   0   0   0   0   0   0   0   0   0   0   0 120 180  39   0   0   0   0   0]\n",
      " [  0   0   0   0 126 163   0   0   0   0   0   0   0   0   0   0   0   0   0   2 153 210  40   0   0   0   0   0]\n",
      " [  0   0   0   0 220 163   0   0   0   0   0   0   0   0   0   0   0   0   0  27 254 162   0   0   0   0   0   0]\n",
      " [  0   0   0   0 222 163   0   0   0   0   0   0   0   0   0   0   0   0   0 183 254 125   0   0   0   0   0   0]\n",
      " [  0   0   0  46 245 163   0   0   0   0   0   0   0   0   0   0   0   0   0 198 254  56   0   0   0   0   0   0]\n",
      " [  0   0   0 120 254 163   0   0   0   0   0   0   0   0   0   0   0   0  23 231 254  29   0   0   0   0   0   0]\n",
      " [  0   0   0 159 254 120   0   0   0   0   0   0   0   0   0   0   0   0 163 254 216  16   0   0   0   0   0   0]\n",
      " [  0   0   0 159 254  67   0   0   0   0   0   0   0   0   0  14  86 178 248 254  91   0   0   0   0   0   0   0]\n",
      " [  0   0   0 159 254  85   0   0   0  47  49 116 144 150 241 243 234 179 241 252  40   0   0   0   0   0   0   0]\n",
      " [  0   0   0 150 253 237 207 207 207 253 254 250 240 198 143  91  28   5 233 250   0   0   0   0   0   0   0   0]\n",
      " [  0   0   0   0 119 177 177 177 177 177  98  56   0   0   0   0   0 102 254 220   0   0   0   0   0   0   0   0]\n",
      " [  0   0   0   0   0   0   0   0   0   0   0   0   0   0   0   0   0 169 254 137   0   0   0   0   0   0   0   0]\n",
      " [  0   0   0   0   0   0   0   0   0   0   0   0   0   0   0   0   0 169 254  57   0   0   0   0   0   0   0   0]\n",
      " [  0   0   0   0   0   0   0   0   0   0   0   0   0   0   0   0   0 169 254  57   0   0   0   0   0   0   0   0]\n",
      " [  0   0   0   0   0   0   0   0   0   0   0   0   0   0   0   0   0 169 255  94   0   0   0   0   0   0   0   0]\n",
      " [  0   0   0   0   0   0   0   0   0   0   0   0   0   0   0   0   0 169 254  96   0   0   0   0   0   0   0   0]\n",
      " [  0   0   0   0   0   0   0   0   0   0   0   0   0   0   0   0   0 169 254 153   0   0   0   0   0   0   0   0]\n",
      " [  0   0   0   0   0   0   0   0   0   0   0   0   0   0   0   0   0 169 255 153   0   0   0   0   0   0   0   0]\n",
      " [  0   0   0   0   0   0   0   0   0   0   0   0   0   0   0   0   0  96 254 153   0   0   0   0   0   0   0   0]\n",
      " [  0   0   0   0   0   0   0   0   0   0   0   0   0   0   0   0   0   0   0   0   0   0   0   0   0   0   0   0]\n",
      " [  0   0   0   0   0   0   0   0   0   0   0   0   0   0   0   0   0   0   0   0   0   0   0   0   0   0   0   0]\n",
      " [  0   0   0   0   0   0   0   0   0   0   0   0   0   0   0   0   0   0   0   0   0   0   0   0   0   0   0   0]]\n"
     ]
    }
   ],
   "source": [
    "# the matrix with the intensity of each one of the 28x28 pixels \n",
    "np.set_printoptions(precision=2, suppress=True, linewidth=120)\n",
    "print(np.matrix(x_train[2]))"
   ]
  },
  {
   "cell_type": "code",
   "execution_count": 5,
   "metadata": {},
   "outputs": [
    {
     "name": "stdout",
     "output_type": "stream",
     "text": [
      "255\n"
     ]
    }
   ],
   "source": [
    "print(np.max(np.matrix(x_train[2]))) # so it is from 0 to 255, where 255 is black "
   ]
  },
  {
   "cell_type": "code",
   "execution_count": 6,
   "metadata": {},
   "outputs": [
    {
     "data": {
      "text/plain": [
       "(784, 28)"
      ]
     },
     "execution_count": 6,
     "metadata": {},
     "output_type": "execute_result"
    }
   ],
   "source": [
    "28*28 , int(x_train.shape[2])"
   ]
  },
  {
   "cell_type": "code",
   "execution_count": 7,
   "metadata": {},
   "outputs": [],
   "source": [
    "x_train , x_test = x_train / 255.0, x_test / 255.0 # to normalize the data\n",
    "\n",
    "# now we need to resize the data, this is to make easier the data treatment in the network\n",
    "\n",
    "size_ar: int = 28*28\n",
    "\n",
    "x_train = x_train.reshape((int(x_train.shape[0]), size_ar)) \n",
    "x_test = x_test.reshape((int(x_test.shape[0]), size_ar)) \n",
    "\n",
    "# x_train.shape, x_test.shape"
   ]
  },
  {
   "cell_type": "markdown",
   "metadata": {},
   "source": [
    "This model is just one layer to visualize the learning mode "
   ]
  },
  {
   "cell_type": "code",
   "execution_count": 8,
   "metadata": {},
   "outputs": [
    {
     "name": "stdout",
     "output_type": "stream",
     "text": [
      "Model: \"sequential\"\n",
      "_________________________________________________________________\n",
      " Layer (type)                Output Shape              Param #   \n",
      "=================================================================\n",
      " dense (Dense)               (None, 100)               78500     \n",
      "                                                                 \n",
      "=================================================================\n",
      "Total params: 78500 (306.64 KB)\n",
      "Trainable params: 78500 (306.64 KB)\n",
      "Non-trainable params: 0 (0.00 Byte)\n",
      "_________________________________________________________________\n"
     ]
    },
    {
     "name": "stderr",
     "output_type": "stream",
     "text": [
      "2024-11-20 17:12:45.071720: I external/local_xla/xla/stream_executor/cuda/cuda_executor.cc:887] could not open file to read NUMA node: /sys/bus/pci/devices/0000:01:00.0/numa_node\n",
      "Your kernel may have been built without NUMA support.\n",
      "2024-11-20 17:12:45.118113: W tensorflow/core/common_runtime/gpu/gpu_device.cc:2256] Cannot dlopen some GPU libraries. Please make sure the missing libraries mentioned above are installed properly if you would like to use GPU. Follow the guide at https://www.tensorflow.org/install/gpu for how to download and setup the required libraries for your platform.\n",
      "Skipping registering GPU devices...\n"
     ]
    }
   ],
   "source": [
    "model = tf.keras.models.Sequential([\n",
    "    tf.keras.layers.Dense(100, activation='softmax', input_shape=(size_ar,))\n",
    "])\n",
    "model.summary()"
   ]
  },
  {
   "cell_type": "code",
   "execution_count": 10,
   "metadata": {},
   "outputs": [
    {
     "name": "stdout",
     "output_type": "stream",
     "text": [
      "1875/1875 [==============================] - 4s 2ms/step - loss: 0.5007 - accuracy: 0.8756\n"
     ]
    },
    {
     "data": {
      "text/plain": [
       "<keras.src.callbacks.History at 0x7fe9481dfe80>"
      ]
     },
     "execution_count": 10,
     "metadata": {},
     "output_type": "execute_result"
    }
   ],
   "source": [
    "model.compile(optimizer='adam',\n",
    "              loss='sparse_categorical_crossentropy',\n",
    "              metrics = ['accuracy'])\n",
    "\n",
    "model.fit(x_train, y_train, epochs=1)\n"
   ]
  },
  {
   "cell_type": "code",
   "execution_count": 11,
   "metadata": {},
   "outputs": [
    {
     "name": "stdout",
     "output_type": "stream",
     "text": [
      "313/313 - 0s - loss: 0.3060 - accuracy: 0.9175 - 362ms/epoch - 1ms/step\n"
     ]
    }
   ],
   "source": [
    "test_loss, test_acc = model.evaluate(x_test, y_test, verbose=2)"
   ]
  },
  {
   "cell_type": "code",
   "execution_count": 12,
   "metadata": {},
   "outputs": [
    {
     "data": {
      "text/plain": [
       "(0.3059852421283722, 0.9175000190734863)"
      ]
     },
     "execution_count": 12,
     "metadata": {},
     "output_type": "execute_result"
    }
   ],
   "source": [
    "test_loss, test_acc"
   ]
  },
  {
   "cell_type": "markdown",
   "metadata": {},
   "source": [
    "Lets  see how the model learned the numbers"
   ]
  },
  {
   "cell_type": "code",
   "execution_count": 13,
   "metadata": {},
   "outputs": [
    {
     "name": "stdout",
     "output_type": "stream",
     "text": [
      "2\n"
     ]
    },
    {
     "data": {
      "text/plain": [
       "<matplotlib.image.AxesImage at 0x7fe9306d9b70>"
      ]
     },
     "execution_count": 13,
     "metadata": {},
     "output_type": "execute_result"
    },
    {
     "data": {
      "image/png": "[encoded data removed]",
      "text/plain": [
       "<Figure size 640x480 with 1 Axes>"
      ]
     },
     "metadata": {},
     "output_type": "display_data"
    }
   ],
   "source": [
    "w = model.get_weights()\n",
    "print(len(w))\n",
    "w = np.asarray(w[0])\n",
    "plt.figure()\n",
    "plt.imshow(w[:,3].reshape([28,28]), cmap=plt.get_cmap('seismic_r'))\n"
   ]
  },
  {
   "cell_type": "code",
   "execution_count": 14,
   "metadata": {},
   "outputs": [
    {
     "name": "stdout",
     "output_type": "stream",
     "text": [
      "[[   6.   -8.   16.  -12.  -19.  -10.  -16.  -14.   -2.   -8.  -13.   -9.   -7.    0.   -7.   -2.    7.  -19.   -8.  -21.   12.  -20.   10.   10.  -19.    7.    1.   -3.]\n",
      " [ -11.   13.   -4.  -15.   14.    5.   16.    6.  -19.    9.   -1.  -21.   -1.  -18.  -12.    1.  -36.  -22.   -0.   -4.  -20.  -29.  -11.  -22.   17.  -17.   -0.   -7.]\n",
      " [ -12.    4.  -17.  -23.  -10.  -24.  -24.  -36.   -4.  -41.  -17.  -11.   -8.  -46.  -34.  -32.  -40.  -44.  -42.  -45.  -22.  -57.  -35.    4.  -15.  -27.  -13.  -12.]\n",
      " [  -6.    0.    9.  -29.   -7.    5.   27.   -2.   33.   31.   11.   32.   23.   38.   41.   18.   31.   19.   -4.   -0.  -17.   -9.  -39.  -52.  -60.  -13.  -19.   -3.]\n",
      " [  -7.   24.   -5.   -3.   -4.   27.   29.   19.   46.   22.   32.   26.   42.   11.   16.    2.   19.    8.   -8.  -32.  -38.  -23.  -58.  -57.  -57.  -35.  -10.    0.]\n",
      " [  -8.  -14.  -18.   -0.   26.   45.   38.   41.   30.   47.   46.   14.   38.   29.   20.   14.   13.    8.  -15.    2.  -16.  -36.  -63.  -85.  -85.  -38.   -6.  -12.]\n",
      " [  -5.   12.  -18.   29.   38.   52.   57.   11.   22.   17.   29.   31.   29.   44.   33.   37.   31.   -4.   15.   -9.   -1.  -22.  -43.  -77.  -69.  -61.  -45.   -9.]\n",
      " [  -2.   -9.  -24.   23.   18.   49.   34.   35.   11.   44.    8.   20.   25.   11.   18.   26.   40.   30.   24.    5.   22.   -6.  -30.  -65.  -78.  -56.  -21.  -22.]\n",
      " [ -26.  -31.  -19.    5.   28.   30.   19.   36.   20.    0.    0.    9.   15.   -1.   23.   53.   20.   15.   37.   19.    7.    1.   -0.  -59. -130.  -79.  -29.   -4.]\n",
      " [ -19.  -20.   -3.   -2.   56.   24.    8.    8.   -7.  -29.  -50.  -71.  -38.  -24.   13.   58.   53.   31.   25.   21.   32.   31.    7.  -42. -152.  -68.  -40.    3.]\n",
      " [ -14.  -27.  -18.   31.    9.    1.  -20.  -43.  -47.  -56.  -78.  -69.  -77.   12.   45.   51.   29.   35.   49.   30.   32.   19.  -26.  -70.  -95.  -61.  -22.   -3.]\n",
      " [ -26.  -38.   -9.   22.   -7.   -1.  -49.  -74.  -81.  -84.  -66.  -55.   -6.   28.   26.   47.   20.   36.   39.    9.   -1.  -16.  -43.  -56.  -89.  -18.  -17.    2.]\n",
      " [ -20.  -35.  -16.   15.   -6.  -62.  -62.  -87.  -53.  -37.  -53.  -34.   23.   41.   30.   52.   50.   27.    7.    7.  -14.  -63.  -45.  -96.  -59.    1.  -23.   -3.]\n",
      " [   6.  -10.  -29.  -23.  -11.  -37.  -64.  -61.  -31.  -38.  -42.   -3.    8.   43.   23.   35.    7.    2.    9.  -14.  -38.  -43.  -69.  -43.  -58.  -35.  -44.  -31.]\n",
      " [   0.   -3.    8.   17.    1.  -29.  -68.  -44.  -47.  -41.  -26.    5.   36.    0.   29.   21.   -1.   23.    9.   -5.  -12.   -5.  -43.  -39.  -55.  -43.  -16.  -18.]\n",
      " [ -12.   -6.   18.   -6.   -8.  -33.  -41.  -66.  -58.  -36.  -13.  -15.    4.   22.    3.    6.    6.   10.    4.   22.   29.   12.  -11.    3.   -6.  -74.   -4.   -6.]\n",
      " [ -20.   15.   17.   13.   26.   18.  -24.  -40.  -70.  -66.  -56.  -45.   -9.  -14.  -28.  -15.    3.    6.    3.   46.   23.   21.   27.   -3.  -12.  -48.  -59.  -20.]\n",
      " [   3.   16.   27.   46.   34.    9.  -21.  -19.  -60.  -94.  -64.  -82.  -72.  -61.  -65.  -50.   -6.   36.   21.   32.   28.   22.   26.   12.  -33.  -45.  -37.  -28.]\n",
      " [  -9.   24.   26.   49.   55.   36.   -4.  -15.  -34.  -61.  -89.  -86.  -72.  -73.  -47.  -11.    9.   17.   20.   44.   19.   26.   37.  -11.  -62.  -52.  -24.    3.]\n",
      " [   4.   -2.    4.   78.   35.   46.   28.   22.   -5.  -12.  -47.  -66.  -60.  -39.  -24.    6.   18.   58.   26.   30.   45.   20.    1.   -3.  -46.  -61.  -19.   11.]\n",
      " [  17.   -9.   20.   37.   61.   55.   22.    8.   21.    0.  -16.  -31.  -38.   -3.    9.   10.   26.   49.   44.   30.   16.    7.  -10.  -14.  -69.  -68.  -16.   10.]\n",
      " [   6.    9.   29.   45.   49.   19.   32.   39.   27.   26.   19.   -5.  -22.    8.   19.    6.   38.    9.   25.   28.    8.   -1.  -29.  -34.  -56.  -55.  -14.    3.]\n",
      " [  -6.   23.   19.   46.   22.   29.   47.   29.   33.    5.    3.   11.   -2.    3.   13.   27.   21.   37.   34.    5.   -8.  -33.  -41.  -47.  -34.  -36.    6.  -15.]\n",
      " [  -1.    9.   18.   23.   25.   47.   23.   39.   23.   15.   31.   37.    9.    6.   10.    2.   -4.   -1.   14.   -5.   -1.  -19.  -28.  -58.  -30.  -12.   -8.   -9.]\n",
      " [  18.    3.    3.   13.   56.   41.   67.   41.   36.   29.   43.   61.   25.   53.   36.    3.   34.    3.  -16.  -29.  -44.  -42.  -49.   -8.  -30.  -15.   12.   13.]\n",
      " [  19.   16.  -11.  -14.   -6.   12.   14.   28.   27.   63.   54.   36.   36.   54.   31.   13.   -2.   -4.  -23.  -19.  -17.  -25.  -27.    2.  -26.   11.   -8.   -6.]\n",
      " [   9.    2.    6.    0.  -13.   -7.  -16.  -18.  -20.  -54.   -6.  -34.  -18.  -45.  -39.  -18.  -17.  -35.  -24.  -46.  -46.  -31.  -12.   -3.    9.  -16.   16.  -13.]\n",
      " [  20.   11.  -21.  -15.   11.   -4.  -20.  -10.  -29.    9.  -32.  -13.  -16.  -13.  -34.  -31.  -50.  -51.  -31.  -12.  -34.  -40.  -14.    7.   -7.    7.    8.   15.]]\n"
     ]
    }
   ],
   "source": [
    "np.set_printoptions(precision=0, suppress = True, linewidth=220)\n",
    "print(np.matrix (255*(w[:,3].reshape([28,28]))))"
   ]
  },
  {
   "cell_type": "code",
   "execution_count": null,
   "metadata": {},
   "outputs": [],
   "source": []
  }
 ],
 "metadata": {
  "kernelspec": {
   "display_name": "tensorc",
   "language": "python",
   "name": "python3"
  },
  "language_info": {
   "codemirror_mode": {
    "name": "ipython",
    "version": 3
   },
   "file_extension": ".py",
   "mimetype": "text/x-python",
   "name": "python",
   "nbconvert_exporter": "python",
   "pygments_lexer": "ipython3",
   "version": "3.10.13"
  }
 },
 "nbformat": 4,
 "nbformat_minor": 2
}
